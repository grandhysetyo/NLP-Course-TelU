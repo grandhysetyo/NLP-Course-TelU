{
 "cells": [
  {
   "cell_type": "code",
   "execution_count": 1,
   "metadata": {},
   "outputs": [],
   "source": [
    "from itertools import chain\n",
    "import nltk\n",
    "from sklearn.metrics import classification_report, confusion_matrix\n",
    "from sklearn.preprocessing import LabelBinarizer\n",
    "import sklearn\n",
    "from sklearn.feature_extraction import DictVectorizer\n",
    "from sklearn.feature_extraction.text import HashingVectorizer\n",
    "import numpy as np"
   ]
  },
  {
   "cell_type": "code",
   "execution_count": 2,
   "metadata": {},
   "outputs": [],
   "source": [
    "# baca file train dan test\n",
    "train_lines = []\n",
    "test_lines = []\n",
    "with open('kalimat_POS_NE_train.txt', 'r') as f:\n",
    "    train_lines = f.readlines()\n",
    "with open('kalimat_POS_NE_test.txt', 'r') as f:\n",
    "    test_lines = f.readlines()"
   ]
  },
  {
   "cell_type": "code",
   "execution_count": null,
   "metadata": {},
   "outputs": [],
   "source": [
    "# fungsi untuk konversi label NE\n",
    "def convert_label(raw_ne):\n",
    "    new_label = 0\n",
    "    if (raw_ne=='B-PER'): new_label = 1\n",
    "    if (raw_ne=='I-PER'): new_label = 2\n",
    "    if (raw_ne=='B-ORG'): new_label = 3\n",
    "    if (raw_ne=='I-ORG'): new_label = 4\n",
    "    if (raw_ne=='B-LOC'): new_label = 5\n",
    "    if (raw_ne=='I-LOC'): new_label = 6\n",
    "    return new_label"
   ]
  },
  {
   "cell_type": "code",
   "execution_count": null,
   "metadata": {},
   "outputs": [],
   "source": [
    "# inisialisasi kode token dan postag\n",
    "token_dict = {}\n",
    "prefix1_dict = {}\n",
    "prefix2_dict = {}\n",
    "prefix3_dict = {}\n",
    "suffix1_dict = {}\n",
    "suffix2_dict = {}\n",
    "suffix3_dict = {}\n",
    "postag_dict = {}\n",
    "counter_token = 0\n",
    "counter_postag = 0\n",
    "counter_prefix1 = 0\n",
    "counter_prefix2 = 0\n",
    "counter_prefix3 = 0\n",
    "counter_suffix1 = 0\n",
    "counter_suffix2 = 0\n",
    "counter_suffix3 = 0"
   ]
  },
  {
   "cell_type": "code",
   "execution_count": null,
   "metadata": {},
   "outputs": [],
   "source": [
    "# baca data token, postag, dan label NE\n",
    "train_sents = []\n",
    "test_sents = []\n",
    "sent = []\n",
    "counter = 0"
   ]
  },
  {
   "cell_type": "code",
   "execution_count": null,
   "metadata": {},
   "outputs": [],
   "source": []
  }
 ],
 "metadata": {
  "kernelspec": {
   "display_name": "Python 3",
   "language": "python",
   "name": "python3"
  },
  "language_info": {
   "codemirror_mode": {
    "name": "ipython",
    "version": 3
   },
   "file_extension": ".py",
   "mimetype": "text/x-python",
   "name": "python",
   "nbconvert_exporter": "python",
   "pygments_lexer": "ipython3",
   "version": "3.7.3"
  }
 },
 "nbformat": 4,
 "nbformat_minor": 2
}
